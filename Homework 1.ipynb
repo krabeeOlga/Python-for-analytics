{
 "cells": [
  {
   "cell_type": "markdown",
   "id": "c33dfcb1",
   "metadata": {},
   "source": [
    "## Задание 2\n",
    "\n",
    "**На складе лежат разные фрукты в разном количестве.\n",
    "Нужно написать функцию, которая на вход принимает любое количество названий фруктов и их количество, а возвращает общее количество фруктов на складе.**"
   ]
  },
  {
   "cell_type": "code",
   "execution_count": 48,
   "id": "8c2766bd",
   "metadata": {},
   "outputs": [
    {
     "data": {
      "text/plain": [
       "{'Общее кол-во фруктов на складе': 660}"
      ]
     },
     "execution_count": 48,
     "metadata": {},
     "output_type": "execute_result"
    }
   ],
   "source": [
    "def total_fruits(fruits):\n",
    "    return{'Общее кол-во фруктов на складе': sum(fruits.values())}\n",
    "\n",
    "total_fruits ({'banana': 210, 'mango': 150, 'apple': 300})"
   ]
  },
  {
   "cell_type": "markdown",
   "id": "3da422ad",
   "metadata": {},
   "source": [
    "## Задание 3\n",
    "\n",
    "**Дан список с затратами на рекламу. Но в данных есть ошибки, некоторые затраты имеют отрицательную величину. Удалите такие значения из списка и посчитайте суммарные затраты.\n",
    "[100, 125, -90, 345, 655, -1, 0, 200]\n",
    "Используйте list comprehensions**"
   ]
  },
  {
   "cell_type": "code",
   "execution_count": 49,
   "id": "871918f7",
   "metadata": {},
   "outputs": [
    {
     "data": {
      "text/plain": [
       "{'Суммарные затраты на рекламу': 1425}"
      ]
     },
     "execution_count": 49,
     "metadata": {},
     "output_type": "execute_result"
    }
   ],
   "source": [
    "costs = [100, 125, -90, 345, 655, -1, 0, 200]\n",
    "\n",
    "def advertising_costs(costs):\n",
    "    return{'Суммарные затраты на рекламу': sum([i for i in costs if i >= 0])}\n",
    "\n",
    "advertising_costs(costs)"
   ]
  },
  {
   "cell_type": "markdown",
   "id": "89370d37",
   "metadata": {},
   "source": [
    "## Задание 4\n",
    "\n",
    "**Даны два списка.\n",
    "Дата покупки\n",
    "['2021-09-14', '2021-12-15', '2021-09-08', '2021-12-05', '2021-10-09', '2021-09-30', '2021-12-22', '2021-11-29', '2021-12-24', '2021-11-26', '2021-10-27', '2021-12-18', '2021-11-09', '2021-11-23', '2021-09-27', '2021-10-02', '2021-12-27', '2021-09-20', '2021-12-13', '2021-11-01', '2021-11-09', '2021-12-06', '2021-12-08', '2021-10-09', '2021-10-31', '2021-09-30', '2021-11-09', '2021-12-13', '2021-10-26', '2021-12-09'].\n",
    "Суммы покупок по датам\n",
    "[1270, 8413, 9028, 3703, 5739, 4095, 295, 4944, 5723, 3701, 4471, 651, 7037, 4274, 6275, 4988, 6930, 2971, 6592, 2004, 2822, 519, 3406, 2732, 5015, 2008, 316, 6333, 5700, 2887]**"
   ]
  },
  {
   "cell_type": "markdown",
   "id": "9f5fb66a",
   "metadata": {},
   "source": [
    "### Задание 4.1\n",
    "\n",
    "**Найдите, какая выручка у компании в ноябре.\n",
    "Используйте list comprehensions**"
   ]
  },
  {
   "cell_type": "code",
   "execution_count": 50,
   "id": "a1d851c9",
   "metadata": {},
   "outputs": [
    {
     "data": {
      "text/plain": [
       "{'Выручка за ноябрь': 25098}"
      ]
     },
     "execution_count": 50,
     "metadata": {},
     "output_type": "execute_result"
    }
   ],
   "source": [
    "date = ['2021-09-14', '2021-12-15', '2021-09-08', '2021-12-05', '2021-10-09', '2021-09-30', '2021-12-22', '2021-11-29',\n",
    "        '2021-12-24', '2021-11-26', '2021-10-27', '2021-12-18', '2021-11-09', '2021-11-23', '2021-09-27', '2021-10-02',\n",
    "        '2021-12-27', '2021-09-20', '2021-12-13', '2021-11-01', '2021-11-09', '2021-12-06', '2021-12-08', '2021-10-09',\n",
    "        '2021-10-31', '2021-09-30', '2021-11-09', '2021-12-13', '2021-10-26', '2021-12-09']\n",
    "sales = [1270, 8413, 9028, 3703, 5739, 4095, 295, 4944, 5723, 3701, 4471, 651, 7037, 4274, 6275, 4988, 6930, 2971, 6592,\n",
    "         2004, 2822, 519, 3406, 2732, 5015, 2008, 316, 6333, 5700, 2887]\n",
    "\n",
    "def income(date: list, sales: list) -> list:\n",
    "    return{'Выручка за ноябрь': sum([s for d, s in zip(date, sales) if d[5:7] == \"11\"])}\n",
    "\n",
    "income(date, sales)"
   ]
  },
  {
   "cell_type": "markdown",
   "id": "a1595f71",
   "metadata": {},
   "source": [
    "### Задание 4.2\n",
    "\n",
    "**Найдите выручку компании в зависимости от месяца.\n",
    "Для этого напишите функцию, которая на вход принимает список с датами и список с выручкой, а на выходе словарь, где ключи - это месяцы, а значения - это выручка.\n",
    "Используйте аннотирование типов.**"
   ]
  },
  {
   "cell_type": "code",
   "execution_count": 53,
   "id": "278a3245",
   "metadata": {},
   "outputs": [
    {
     "data": {
      "text/plain": [
       "{'09': 25647, '12': 45452, '10': 28645, '11': 25098}"
      ]
     },
     "execution_count": 53,
     "metadata": {},
     "output_type": "execute_result"
    }
   ],
   "source": [
    "def month_income(date: list, sales: list) -> dict:\n",
    "    result = {}\n",
    "    for d, s in zip(date, sales):\n",
    "        if d[5:7] in result.keys():\n",
    "            result[d[5:7]] = result[d[5:7]] + s\n",
    "        else:\n",
    "            result[d[5:7]] = s\n",
    "    return result\n",
    " \n",
    "month_income(date, sales)"
   ]
  },
  {
   "cell_type": "code",
   "execution_count": null,
   "id": "df63f151",
   "metadata": {},
   "outputs": [],
   "source": []
  }
 ],
 "metadata": {
  "kernelspec": {
   "display_name": "Python 3 (ipykernel)",
   "language": "python",
   "name": "python3"
  },
  "language_info": {
   "codemirror_mode": {
    "name": "ipython",
    "version": 3
   },
   "file_extension": ".py",
   "mimetype": "text/x-python",
   "name": "python",
   "nbconvert_exporter": "python",
   "pygments_lexer": "ipython3",
   "version": "3.9.13"
  }
 },
 "nbformat": 4,
 "nbformat_minor": 5
}
